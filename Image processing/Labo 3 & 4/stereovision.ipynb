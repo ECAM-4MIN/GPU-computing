{
 "cells": [
  {
   "cell_type": "markdown",
   "metadata": {},
   "source": [
    "# Stéréovision\n",
    "\n",
    "![Suzanne](main.png)\n",
    "\n",
    "La stéréovision est une discipline qui s’occupe de reconstruire des informations 3D à partir d’images. Ppour que la reconstruction d’un point soit possible, il faut plusieurs images de ce point. Ces images doivent être prises de points de vue différents. L’étape clé de la reconstruction, qui pose souvent problème, est d’indentifier l’image du point à reconstruire dans chacune des vues.\n",
    "\n",
    "## Géométrie épipolaire\n",
    "\n",
    "La géométrie épipolaire fait intervenir deux caméras. La géométrie épipolaire décrit les propriétés géométriques entre deux vues d’une même scène et ne dépend que des paramètres intrinsèques des caméras et de leurs positions relatives. Elle fournit, en particulier, la contrainte épipolaire, qui nous sera très utile pour produire les appariements entre vues.\n",
    "\n",
    "## La matrice fondamentale\n",
    "\n",
    "![Géométrie épipolaire - Sanyam Kapoor](epipolar.png)\n",
    "\n",
    "Imaginons que nous ayons deux images, droite et gauche, de l’espace monde. Prenons un point $\\vec{x}$ dans l’espace image droit. Le point $\\vec{X}$ de l’espace monde, dont $\\vec{x}$ est l’image, peut se trouver n’importe où sur la droite passant par $\\vec{x}$ et le centre optique de la caméra de droite. Nous appellerons cette droite, le rayon retro-projeté de $\\vec{x}$. Notons $\\vec{x}'$ l’image de $\\vec{X}$ dans l’espace image gauche. Le lieu de $\\vec{x}'$ est donc la droite image du rayon retro-projeté de $\\vec{x}$. Cette droite est appelée ligne épipolaire et notée $\\vec{l}'$. La ligne épipolaire passe par l’épipole $\\vec{e}'$, image du centre optique de la caméra de droite.\n",
    "\n",
    "En géométrie projective 2D, une droite d’équation $ax+by+c = 0$ est représentée par un vecteur à trois composantes $(a, b, c)^T$ définies à un facteur près. On a donc la relation suivante:\n",
    "\n",
    ">Le point $\\vec{x}$ appartient à la droite $\\vec{l}$ si et seulement si $x^T\\vec{l} = 0$.\n",
    "\n",
    "De plus, en géométrie projective 2D, les relations remarquables suivantes sont valables:\n",
    "\n",
    "- L’intersection de deux lignes $l$ et $l'$ est donnée par $x = l \\times l'$,\n",
    "- La droite passant par deux points $x$ et $x'$ est donnée par $l = x \\times x'$.\n",
    "\n",
    "Notons que le produit vectoriel peut être écrit comme un produit de matrice $x \\times y = [x]_\\times y$ où\n",
    "\n",
    "$$[x]_\\times = \\begin{pmatrix} 0 & −x3 & x2 \\\\ x3 & 0 & −x1 \\\\ −x2 & x1 & 0 \\end{pmatrix}$$\n",
    "\n",
    "Pour trouver l’équation de la ligne épipolaire dans l’espace image gauche, il nous suffit donc de trouver les coordonnées de deux points de cette ligne. Le premier est l’image $P'\\vec{C}$ du centre optique $\\vec{C}$ de la caméra de droite où $P'$ est la matrice de projection de la caméra de gauche. Le deuxième est $P'P^{+}\\vec{x}$ où $P^{+}$ est la pseudo inverse de la matrice de projection $P$ de la caméra de droite. La ligne épipolaire a donc pour équation $l' = [P'\\vec{C}]_\\times{}P'P^{+}\\vec{x} = F\\vec{x}$ avec $F = [P'\\vec{C}]_\\times{}P'P^{+}$. $F$ est appelée matrice fondamentale.\n",
    "\n",
    "Comme la ligne épipolaire $\\vec{l}' = F\\vec{x}$ est le lieu de $\\vec{x}'$, $\\vec{x}'$ appartient donc à $\\vec{l}'$ ce qui conduit à la contrainte épipolaire :\n",
    "\n",
    ">**La matrice fondamentale est telle que pour toute paire de points se correspondant $\\vec{x} \\leftrightarrow \\vec{x}'$ dans les deux images, on a $\\vec{x}'^{T}F\\vec{x} = 0$.**\n",
    "\n",
    "## Calcul de la matrice fondamentale\n",
    "\n",
    "La matrice fondamentale $F$ a sept degrés de liberté. Elle possède neuf composantes mais celles-ci sont définies à un facteur d’échelle près, ce qui enlève un degré de liberté. De plus, la matrice $F$ est une matrice singulière ($det(F) = 0$) ce qui nous fait bien sept degrés de liberté. Il nous faut donc sept correspondances minimum pour calculer $F$. L’équation $x'^{T}_iFx_i = 0$ et les sept correspondances nous permettent d’écrire un système d’équations de la forme $Af = 0$, où $f$ est le vecteur qui contient les composantes de la matrice $F$. Admettons que $A$ soit une matrice 7×9 de rang 7. La solution générale de $Af = 0$ peut s’écrire $\\alpha f_1 + (1−\\alpha) f_2$ où $f_1$ et $f_2$ sont deux solutions particulières indépendantes de $Af = 0$. On utilise ensuite la contrainte de singularité $det(\\alpha F_1 + (1 − \\alpha)F_2) = 0$ pour déterminer $\\alpha$. La contrainte de singularité donnant lieu à une équation du troisième degré, on pourra avoir une ou trois solutions pour $F$.\n",
    "\n",
    "## OpenCV\n",
    "\n",
    "En pratique vous allez utiliser la bibliothèque OpenCV. En python, vous avez accès à ses fonctions grâce au module `cv2`.\n",
    "\n",
    "Vous pouvez trouver de l'aide concernant les fonctions de calibration et de reconstruction à la page https://docs.opencv.org/4.0.0/d9/d0c/group__calib3d.html\n",
    "\n",
    "## Objectif\n",
    "\n",
    "Dans le zip de l'énoncé vous trouverez deux séquences d'images prise par deux caméras pendant le balayage d'un objet par un plan laser.\n",
    "\n",
    "![Laser](scanRight/scan0010.png)\n",
    "\n",
    "Vous trouverez également des prises de vue d'un damier dans différentes position qui vous aideront à calibrer vos caméras.\n",
    "\n",
    "![Damier](chessboards/c2Right.png)\n",
    "\n",
    "Le but est de reconstruire en 3D l'objet scanné."
   ]
  },
  {
   "cell_type": "code",
   "execution_count": null,
   "metadata": {},
   "outputs": [],
   "source": []
  }
 ],
 "metadata": {
  "kernelspec": {
   "display_name": "Python 3",
   "language": "python",
   "name": "python3"
  },
  "language_info": {
   "codemirror_mode": {
    "name": "ipython",
    "version": 3
   },
   "file_extension": ".py",
   "mimetype": "text/x-python",
   "name": "python",
   "nbconvert_exporter": "python",
   "pygments_lexer": "ipython3",
   "version": "3.6.5"
  }
 },
 "nbformat": 4,
 "nbformat_minor": 2
}
